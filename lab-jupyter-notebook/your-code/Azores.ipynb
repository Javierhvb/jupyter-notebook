{
 "cells": [
  {
   "cell_type": "markdown",
   "metadata": {},
   "source": [
    "# In the Azores with Kow"
   ]
  },
  {
   "cell_type": "markdown",
   "metadata": {},
   "source": [
    "<img src=\"../images/Azores.jpg\" style=\"width: 600px;\"/>"
   ]
  },
  {
   "cell_type": "markdown",
   "metadata": {},
   "source": [
    "[The Azores](https://es.wikipedia.org/wiki/Azores), is the favourite place of <font color = green size = 4> Kow the cow </font>, a cow I meet **many decades ago.** I will also use this notebook to practice my *jupyter notebook* recent learnings."
   ]
  },
  {
   "cell_type": "code",
   "execution_count": null,
   "metadata": {},
   "outputs": [],
   "source": [
    "friends_name = input('Enter here the name of the friend you want to introduce!\\n')\n",
    "print(f'Seriously?! {friends_name} has always been my favourite name. Tell me more about him')"
   ]
  },
  {
   "cell_type": "markdown",
   "metadata": {},
   "source": [
    "<img src=\"../images/vaca3.jfif\" style=\"width: 600px;\"/>"
   ]
  },
  {
   "cell_type": "code",
   "execution_count": null,
   "metadata": {},
   "outputs": [],
   "source": [
    "friends_destination = input(f'Enter here the name of {friends_name}s favourite holiday destination\\n')\n",
    "print(f'Seriously? {friends_destination}? Never heard of it, Do you have a picture?')"
   ]
  },
  {
   "cell_type": "markdown",
   "metadata": {},
   "source": [
    "<img src=\"../images/vaca1.png\" style=\"width: 600px;\"/>"
   ]
  },
  {
   "attachments": {},
   "cell_type": "markdown",
   "metadata": {},
   "source": [
    " __Kow's favourites activites__ in *Los Azores* are: \n",
    "\n",
    " - Kow likes to relax\n",
    " - Eat weed\n",
    " - Siteseeing"
   ]
  },
  {
   "attachments": {},
   "cell_type": "markdown",
   "metadata": {},
   "source": [
    "\n"
   ]
  },
  {
   "cell_type": "markdown",
   "metadata": {},
   "source": [
    "[Here](https://www.youtube.com/watch?v=0NEod8OBRig), you will find a little introduction of los Azores, which I'm sure you will fall in love instanly"
   ]
  }
 ],
 "metadata": {
  "kernelspec": {
   "display_name": "Python 3",
   "language": "python",
   "name": "python3"
  }
 },
 "nbformat": 4,
 "nbformat_minor": 2
}
