{
 "cells": [
  {
   "cell_type": "markdown",
   "metadata": {},
   "source": [
    "https://www.google.com/search?q=azores&rlz=1C1GCEA_enES879ES879&sxsrf=ALeKk01c8BcgMqrWI5f8z2nxhrNAkNMVww:1586170704137&source=lnms&tbm=isch&sa=X&ved=2ahUKEwiD4P2q0tPoAhWLasAKHXy5A8sQ_AUoAXoECBkQAw&biw=1920&bih=937#imgrc=Gg6A-JAJwjfJyM"
   ]
  },
  {
   "cell_type": "code",
   "execution_count": null,
   "metadata": {},
   "outputs": [],
   "source": []
  }
 ],
 "metadata": {
  "kernelspec": {
   "display_name": "Python 3",
   "language": "python",
   "name": "python3"
  },
  "language_info": {
   "codemirror_mode": {
    "name": "ipython",
    "version": 3
   },
   "file_extension": ".py",
   "mimetype": "text/x-python",
   "name": "python",
   "nbconvert_exporter": "python",
   "pygments_lexer": "ipython3",
   "version": "3.7.4"
  }
 },
 "nbformat": 4,
 "nbformat_minor": 2
}
